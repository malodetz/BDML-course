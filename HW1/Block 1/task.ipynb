{
 "cells": [
  {
   "cell_type": "code",
   "execution_count": 4,
   "id": "f8405149-2b34-4f9f-a06e-30e3407f6ab6",
   "metadata": {},
   "outputs": [],
   "source": [
    "!hadoop fs -put example.txt /example.txt"
   ]
  },
  {
   "cell_type": "code",
   "execution_count": 5,
   "id": "50693f06-91ce-49c6-852d-22f9f95ade1d",
   "metadata": {},
   "outputs": [
    {
     "name": "stdout",
     "output_type": "stream",
     "text": [
      "-rw-r--r--   3 root supergroup        445 2023-11-27 01:29 /example.txt\n"
     ]
    }
   ],
   "source": [
    "!hadoop fs -ls /example.txt"
   ]
  },
  {
   "cell_type": "code",
   "execution_count": 7,
   "id": "2a455b4a-7115-44e5-98e3-47d2fe264807",
   "metadata": {},
   "outputs": [
    {
     "name": "stdout",
     "output_type": "stream",
     "text": [
      "Lorem ipsum dolor sit amet, consectetur adipiscing elit, sed do eiusmod tempor incididunt ut labore et dolore magna aliqua.\n",
      "Ut enim ad minim veniam, quis nostrud exercitation ullamco laboris nisi ut aliquip ex ea commodo consequat.\n",
      "Duis aute irure dolor in reprehenderit in voluptate velit esse cillum dolore eu fugiat nulla pariatur.\n",
      "Excepteur sint occaecat cupidatat non proident, sunt in culpa qui officia deserunt mollit anim id est laborum."
     ]
    }
   ],
   "source": [
    "!hadoop fs -cat /example.txt"
   ]
  },
  {
   "cell_type": "code",
   "execution_count": 8,
   "id": "4222f7c7-37a0-4f60-8533-9cd6eadca58c",
   "metadata": {},
   "outputs": [
    {
     "name": "stdout",
     "output_type": "stream",
     "text": [
      "Number of Maps  = 15\n",
      "Samples per Map = 1800\n",
      "Wrote input for Map #0\n",
      "Wrote input for Map #1\n",
      "Wrote input for Map #2\n",
      "Wrote input for Map #3\n",
      "Wrote input for Map #4\n",
      "Wrote input for Map #5\n",
      "Wrote input for Map #6\n",
      "Wrote input for Map #7\n",
      "Wrote input for Map #8\n",
      "Wrote input for Map #9\n",
      "Wrote input for Map #10\n",
      "Wrote input for Map #11\n",
      "Wrote input for Map #12\n",
      "Wrote input for Map #13\n",
      "Wrote input for Map #14\n",
      "Starting Job\n",
      "2023-11-27 01:30:57 INFO  DefaultNoHARMFailoverProxyProvider:64 - Connecting to ResourceManager at resourcemanager/172.18.0.5:8032\n",
      "2023-11-27 01:30:57 INFO  JobResourceUploader:907 - Disabling Erasure Coding for path: /tmp/hadoop-yarn/staging/root/.staging/job_1701031719954_0001\n",
      "2023-11-27 01:30:57 INFO  FileInputFormat:300 - Total input files to process : 15\n",
      "2023-11-27 01:30:57 INFO  JobSubmitter:202 - number of splits:15\n",
      "2023-11-27 01:30:57 INFO  JobSubmitter:298 - Submitting tokens for job: job_1701031719954_0001\n",
      "2023-11-27 01:30:57 INFO  JobSubmitter:299 - Executing with tokens: []\n",
      "2023-11-27 01:30:58 INFO  Configuration:2854 - resource-types.xml not found\n",
      "2023-11-27 01:30:58 INFO  ResourceUtils:476 - Unable to find 'resource-types.xml'.\n",
      "2023-11-27 01:30:58 INFO  YarnClientImpl:338 - Submitted application application_1701031719954_0001\n",
      "2023-11-27 01:30:58 INFO  Job:1682 - The url to track the job: http://resourcemanager:8088/proxy/application_1701031719954_0001/\n",
      "2023-11-27 01:30:58 INFO  Job:1727 - Running job: job_1701031719954_0001\n",
      "2023-11-27 01:31:04 INFO  Job:1748 - Job job_1701031719954_0001 running in uber mode : false\n",
      "2023-11-27 01:31:04 INFO  Job:1755 -  map 0% reduce 0%\n",
      "2023-11-27 01:31:09 INFO  Job:1755 -  map 7% reduce 0%\n",
      "2023-11-27 01:31:10 INFO  Job:1755 -  map 20% reduce 0%\n",
      "2023-11-27 01:31:11 INFO  Job:1755 -  map 27% reduce 0%\n",
      "2023-11-27 01:31:13 INFO  Job:1755 -  map 40% reduce 0%\n",
      "2023-11-27 01:31:15 INFO  Job:1755 -  map 53% reduce 0%\n",
      "2023-11-27 01:31:17 INFO  Job:1755 -  map 67% reduce 0%\n",
      "2023-11-27 01:31:18 INFO  Job:1755 -  map 73% reduce 0%\n",
      "2023-11-27 01:31:21 INFO  Job:1755 -  map 80% reduce 0%\n",
      "2023-11-27 01:31:22 INFO  Job:1755 -  map 87% reduce 0%\n",
      "2023-11-27 01:31:24 INFO  Job:1755 -  map 93% reduce 0%\n",
      "2023-11-27 01:31:25 INFO  Job:1755 -  map 100% reduce 0%\n",
      "2023-11-27 01:31:26 INFO  Job:1755 -  map 100% reduce 100%\n",
      "2023-11-27 01:31:26 INFO  Job:1766 - Job job_1701031719954_0001 completed successfully\n",
      "2023-11-27 01:31:27 INFO  Job:1773 - Counters: 54\n",
      "\tFile System Counters\n",
      "\t\tFILE: Number of bytes read=336\n",
      "\t\tFILE: Number of bytes written=4460994\n",
      "\t\tFILE: Number of read operations=0\n",
      "\t\tFILE: Number of large read operations=0\n",
      "\t\tFILE: Number of write operations=0\n",
      "\t\tHDFS: Number of bytes read=3860\n",
      "\t\tHDFS: Number of bytes written=215\n",
      "\t\tHDFS: Number of read operations=65\n",
      "\t\tHDFS: Number of large read operations=0\n",
      "\t\tHDFS: Number of write operations=3\n",
      "\t\tHDFS: Number of bytes read erasure-coded=0\n",
      "\tJob Counters \n",
      "\t\tLaunched map tasks=15\n",
      "\t\tLaunched reduce tasks=1\n",
      "\t\tRack-local map tasks=15\n",
      "\t\tTotal time spent by all maps in occupied slots (ms)=44398\n",
      "\t\tTotal time spent by all reduces in occupied slots (ms)=15710\n",
      "\t\tTotal time spent by all map tasks (ms)=22199\n",
      "\t\tTotal time spent by all reduce tasks (ms)=7855\n",
      "\t\tTotal vcore-milliseconds taken by all map tasks=22199\n",
      "\t\tTotal vcore-milliseconds taken by all reduce tasks=7855\n",
      "\t\tTotal megabyte-milliseconds taken by all map tasks=22731776\n",
      "\t\tTotal megabyte-milliseconds taken by all reduce tasks=8043520\n",
      "\tMap-Reduce Framework\n",
      "\t\tMap input records=15\n",
      "\t\tMap output records=30\n",
      "\t\tMap output bytes=270\n",
      "\t\tMap output materialized bytes=420\n",
      "\t\tInput split bytes=2090\n",
      "\t\tCombine input records=0\n",
      "\t\tCombine output records=0\n",
      "\t\tReduce input groups=2\n",
      "\t\tReduce shuffle bytes=420\n",
      "\t\tReduce input records=30\n",
      "\t\tReduce output records=0\n",
      "\t\tSpilled Records=60\n",
      "\t\tShuffled Maps =15\n",
      "\t\tFailed Shuffles=0\n",
      "\t\tMerged Map outputs=15\n",
      "\t\tGC time elapsed (ms)=556\n",
      "\t\tCPU time spent (ms)=5340\n",
      "\t\tPhysical memory (bytes) snapshot=4524924928\n",
      "\t\tVirtual memory (bytes) snapshot=41629671424\n",
      "\t\tTotal committed heap usage (bytes)=6296174592\n",
      "\t\tPeak Map Physical memory (bytes)=291708928\n",
      "\t\tPeak Map Virtual memory (bytes)=2603143168\n",
      "\t\tPeak Reduce Physical memory (bytes)=284467200\n",
      "\t\tPeak Reduce Virtual memory (bytes)=2610188288\n",
      "\tShuffle Errors\n",
      "\t\tBAD_ID=0\n",
      "\t\tCONNECTION=0\n",
      "\t\tIO_ERROR=0\n",
      "\t\tWRONG_LENGTH=0\n",
      "\t\tWRONG_MAP=0\n",
      "\t\tWRONG_REDUCE=0\n",
      "\tFile Input Format Counters \n",
      "\t\tBytes Read=1770\n",
      "\tFile Output Format Counters \n",
      "\t\tBytes Written=97\n",
      "Job Finished in 30.064 seconds\n",
      "Estimated value of Pi is 3.14162962962962962963\n"
     ]
    }
   ],
   "source": [
    "!hadoop jar /opt/hadoop/share/hadoop/mapreduce/hadoop-mapreduce-examples-3.3.6.jar pi 15 1800"
   ]
  },
  {
   "cell_type": "code",
   "execution_count": null,
   "id": "0ac823fb-8bda-460f-aa09-6a87d711babd",
   "metadata": {},
   "outputs": [],
   "source": []
  }
 ],
 "metadata": {
  "kernelspec": {
   "display_name": "Python 3 (ipykernel)",
   "language": "python",
   "name": "python3"
  },
  "language_info": {
   "codemirror_mode": {
    "name": "ipython",
    "version": 3
   },
   "file_extension": ".py",
   "mimetype": "text/x-python",
   "name": "python",
   "nbconvert_exporter": "python",
   "pygments_lexer": "ipython3",
   "version": "3.10.12"
  }
 },
 "nbformat": 4,
 "nbformat_minor": 5
}
