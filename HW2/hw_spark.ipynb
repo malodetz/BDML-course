{
 "cells": [
  {
   "cell_type": "markdown",
   "id": "54818a95-5e48-45e1-be59-8f5c98388b12",
   "metadata": {},
   "source": [
    "Task 1"
   ]
  },
  {
   "cell_type": "code",
   "execution_count": 1,
   "id": "9540019a-4d42-4c43-b206-ec653b959578",
   "metadata": {},
   "outputs": [],
   "source": [
    "from pyspark import SparkContext, SparkConf\n",
    "from pyspark.sql import SparkSession\n",
    "from pyspark.sql import functions as f\n",
    "from pyspark.sql.types import *"
   ]
  },
  {
   "cell_type": "code",
   "execution_count": 2,
   "id": "a79bc552-858a-452d-9498-2ef026f6cf1f",
   "metadata": {},
   "outputs": [
    {
     "name": "stdout",
     "output_type": "stream",
     "text": [
      "Safe mode is OFF\n"
     ]
    }
   ],
   "source": [
    "!hdfs dfsadmin -safemode leave"
   ]
  },
  {
   "cell_type": "code",
   "execution_count": 3,
   "id": "c085f7f5-1ae5-455a-96bf-9c9609c9f9bf",
   "metadata": {},
   "outputs": [
    {
     "name": "stderr",
     "output_type": "stream",
     "text": [
      "Setting default log level to \"WARN\".\n",
      "To adjust logging level use sc.setLogLevel(newLevel). For SparkR, use setLogLevel(newLevel).\n",
      "23/12/15 16:43:01 WARN Client: Neither spark.yarn.jars nor spark.yarn.archive is set, falling back to uploading libraries under SPARK_HOME.\n"
     ]
    }
   ],
   "source": [
    "conf = SparkConf().set(\"spark.executor.instances\", \"2\").set(\"spark.executor.cores\", \"1\").set(\"spark.executor.memory\", \"1g\")\n",
    "spark = SparkSession.builder.appName(\"Zhuravev_spark\").config(conf=conf).master(master=\"yarn\").getOrCreate()"
   ]
  },
  {
   "cell_type": "code",
   "execution_count": 11,
   "id": "ae998d0a-e07a-480f-86ce-e79a64f13d5a",
   "metadata": {},
   "outputs": [
    {
     "name": "stdout",
     "output_type": "stream",
     "text": [
      "Deleted ml-latest-small\n"
     ]
    }
   ],
   "source": [
    "!hdfs dfs -rm -r ml-latest-small\n",
    "!hdfs dfs -put ml-latest-small"
   ]
  },
  {
   "cell_type": "code",
   "execution_count": 12,
   "id": "5c34c41a-224d-484a-9757-53998bfd0e3c",
   "metadata": {},
   "outputs": [
    {
     "name": "stderr",
     "output_type": "stream",
     "text": [
      "                                                                                \r"
     ]
    },
    {
     "data": {
      "text/plain": [
       "100836"
      ]
     },
     "execution_count": 12,
     "metadata": {},
     "output_type": "execute_result"
    }
   ],
   "source": [
    "ratings_schema = StructType(fields=[\n",
    "    StructField(\"userId\", IntegerType()),\n",
    "    StructField(\"movieId\", IntegerType()),\n",
    "    StructField(\"rating\", DoubleType()),\n",
    "    StructField(\"timestamp\", LongType()),\n",
    "])\n",
    "spark.read.format(\"csv\").option(\"header\", \"True\").schema(ratings_schema).load(\"ml-latest-small/ratings.csv\").count()"
   ]
  },
  {
   "cell_type": "code",
   "execution_count": 14,
   "id": "433e76bc-71ec-4f92-86b2-c32adb81729d",
   "metadata": {},
   "outputs": [
    {
     "data": {
      "text/plain": [
       "3683"
      ]
     },
     "execution_count": 14,
     "metadata": {},
     "output_type": "execute_result"
    }
   ],
   "source": [
    "tags_schema = StructType(fields=[\n",
    "    StructField(\"userId\", IntegerType()),\n",
    "    StructField(\"movieId\", IntegerType()),\n",
    "    StructField(\"tag\", StringType()),\n",
    "    StructField(\"timestamp\", LongType()),\n",
    "])\n",
    "spark.read.format(\"csv\").option(\"header\", \"True\").schema(tags_schema).load(\"ml-latest-small/tags.csv\").count()"
   ]
  },
  {
   "cell_type": "markdown",
   "id": "4852a58a-8d9c-463d-b4fe-7e6f7510ba9e",
   "metadata": {},
   "source": [
    "Task 2"
   ]
  },
  {
   "cell_type": "code",
   "execution_count": 15,
   "id": "49c25eea-7aeb-42a2-95d6-46eb88f8ba38",
   "metadata": {},
   "outputs": [],
   "source": [
    "ratings = spark.read.format(\"csv\").option(\"header\", \"True\").schema(ratings_schema).load(\"ml-latest-small/ratings.csv\")\n",
    "tags = spark.read.format(\"csv\").option(\"header\", \"True\").schema(tags_schema).load(\"ml-latest-small/tags.csv\")"
   ]
  },
  {
   "cell_type": "code",
   "execution_count": 16,
   "id": "8b231011-ad48-4a5f-b33c-dd84ff724f8d",
   "metadata": {},
   "outputs": [
    {
     "name": "stderr",
     "output_type": "stream",
     "text": [
      "                                                                                \r"
     ]
    },
    {
     "name": "stdout",
     "output_type": "stream",
     "text": [
      "Unique users: 610\n",
      "Unique movies: 9724\n"
     ]
    }
   ],
   "source": [
    "unique_users = ratings.select(\"userId\").distinct().count()\n",
    "unique_movies = ratings.select(\"movieId\").distinct().count()\n",
    "print(\"Unique users:\", unique_users)\n",
    "print(\"Unique movies:\", unique_movies)"
   ]
  },
  {
   "cell_type": "code",
   "execution_count": 17,
   "id": "f03bd90a-be0d-4788-9bfb-c12f7955ab5b",
   "metadata": {},
   "outputs": [
    {
     "name": "stderr",
     "output_type": "stream",
     "text": [
      "[Stage 18:>                                                         (0 + 1) / 1]\r"
     ]
    },
    {
     "name": "stdout",
     "output_type": "stream",
     "text": [
      "Number of ratings >= 4.0: 48580\n"
     ]
    },
    {
     "name": "stderr",
     "output_type": "stream",
     "text": [
      "                                                                                \r"
     ]
    }
   ],
   "source": [
    "num_high_ratings = ratings.filter(ratings[\"rating\"] >= 4.0).count()\n",
    "print(f\"Number of ratings >= 4.0: {num_high_ratings}\")"
   ]
  },
  {
   "cell_type": "code",
   "execution_count": 18,
   "id": "61f8da46-4b10-4af3-ae89-ecd70f5b9fbb",
   "metadata": {},
   "outputs": [
    {
     "name": "stdout",
     "output_type": "stream",
     "text": [
      "Top 100 movies by average rating:\n",
      "+-------+--------------+\n",
      "|movieId|average_rating|\n",
      "+-------+--------------+\n",
      "|     53|           5.0|\n",
      "|     99|           5.0|\n",
      "|    148|           5.0|\n",
      "|    467|           5.0|\n",
      "|    495|           5.0|\n",
      "|    496|           5.0|\n",
      "|    626|           5.0|\n",
      "|    633|           5.0|\n",
      "|    876|           5.0|\n",
      "|   1140|           5.0|\n",
      "|   1151|           5.0|\n",
      "|   1310|           5.0|\n",
      "|   1349|           5.0|\n",
      "|   1631|           5.0|\n",
      "|   1759|           5.0|\n",
      "|   2075|           5.0|\n",
      "|   2196|           5.0|\n",
      "|   2512|           5.0|\n",
      "|   2824|           5.0|\n",
      "|   2969|           5.0|\n",
      "|   2972|           5.0|\n",
      "|   3073|           5.0|\n",
      "|   3086|           5.0|\n",
      "|   3096|           5.0|\n",
      "|   3303|           5.0|\n",
      "|   3473|           5.0|\n",
      "|   3496|           5.0|\n",
      "|   3531|           5.0|\n",
      "|   3567|           5.0|\n",
      "|   3637|           5.0|\n",
      "|   3678|           5.0|\n",
      "|   3687|           5.0|\n",
      "|   3792|           5.0|\n",
      "|   3795|           5.0|\n",
      "|   3851|           5.0|\n",
      "|   3939|           5.0|\n",
      "|   3940|           5.0|\n",
      "|   3941|           5.0|\n",
      "|   3942|           5.0|\n",
      "|   3951|           5.0|\n",
      "|   4116|           5.0|\n",
      "|   4135|           5.0|\n",
      "|   4180|           5.0|\n",
      "|   4402|           5.0|\n",
      "|   4454|           5.0|\n",
      "|   4495|           5.0|\n",
      "|   4788|           5.0|\n",
      "|   4813|           5.0|\n",
      "|   5059|           5.0|\n",
      "|   5088|           5.0|\n",
      "|   5241|           5.0|\n",
      "|   5244|           5.0|\n",
      "|   5328|           5.0|\n",
      "|   5416|           5.0|\n",
      "|   5468|           5.0|\n",
      "|   5490|           5.0|\n",
      "|   5513|           5.0|\n",
      "|   5537|           5.0|\n",
      "|   5607|           5.0|\n",
      "|   5723|           5.0|\n",
      "|   5745|           5.0|\n",
      "|   5746|           5.0|\n",
      "|   5888|           5.0|\n",
      "|   5889|           5.0|\n",
      "|   6021|           5.0|\n",
      "|   6086|           5.0|\n",
      "|   6192|           5.0|\n",
      "|   6201|           5.0|\n",
      "|   6402|           5.0|\n",
      "|   6408|           5.0|\n",
      "|   6442|           5.0|\n",
      "|   6611|           5.0|\n",
      "|   6818|           5.0|\n",
      "|   6835|           5.0|\n",
      "|   6983|           5.0|\n",
      "|   7071|           5.0|\n",
      "|   7096|           5.0|\n",
      "|   7122|           5.0|\n",
      "|   7815|           5.0|\n",
      "|   8238|           5.0|\n",
      "|   8580|           5.0|\n",
      "|   8738|           5.0|\n",
      "|   8804|           5.0|\n",
      "|   8911|           5.0|\n",
      "|  25887|           5.0|\n",
      "|  25906|           5.0|\n",
      "|  25947|           5.0|\n",
      "|  26073|           5.0|\n",
      "|  26078|           5.0|\n",
      "|  26147|           5.0|\n",
      "|  26169|           5.0|\n",
      "|  26350|           5.0|\n",
      "|  26366|           5.0|\n",
      "|  26401|           5.0|\n",
      "|  26587|           5.0|\n",
      "|  26840|           5.0|\n",
      "|  26849|           5.0|\n",
      "|  26928|           5.0|\n",
      "|  27320|           5.0|\n",
      "|  27373|           5.0|\n",
      "+-------+--------------+\n",
      "only showing top 100 rows\n",
      "\n"
     ]
    }
   ],
   "source": [
    "print(\"Top 100 movies by average rating:\")\n",
    "top_100_movies = ratings.groupBy(\"movieId\").agg(f.avg(\"rating\").alias(\"average_rating\"))\\\n",
    "    .orderBy(f.desc(\"average_rating\"), f.asc(\"movieId\")).show(100)"
   ]
  },
  {
   "cell_type": "code",
   "execution_count": 25,
   "id": "6299f78b-d4bb-4339-bc4c-1c857c620716",
   "metadata": {},
   "outputs": [
    {
     "name": "stdout",
     "output_type": "stream",
     "text": [
      "Average time delta:\n",
      "+--------------------+\n",
      "|           avg_delta|\n",
      "+--------------------+\n",
      "|2.6243727372266974E7|\n",
      "+--------------------+\n",
      "\n"
     ]
    }
   ],
   "source": [
    "print(\"Average time delta:\")\n",
    "tags_with_ratings = tags.alias(\"tags\").join(ratings.alias(\"ratings\"), on=['userId', 'movieId'])\n",
    "time_diff = tags_with_ratings.withColumn(\"time_diff\", (f.col(\"tags.timestamp\") - f.col(\"ratings.timestamp\")))\n",
    "time_diff.select(f.mean('time_diff').alias('avg_delta')).show()"
   ]
  },
  {
   "cell_type": "code",
   "execution_count": 27,
   "id": "0a0b942a-7598-4e26-ba2b-94d35e371156",
   "metadata": {},
   "outputs": [
    {
     "name": "stdout",
     "output_type": "stream",
     "text": [
      "Average of all averaged ratings:\n",
      "+------------------+\n",
      "|avg_of_avg_ratings|\n",
      "+------------------+\n",
      "|3.6572223377474016|\n",
      "+------------------+\n",
      "\n"
     ]
    }
   ],
   "source": [
    "print(\"Average of all averaged ratings:\")\n",
    "avg_ratings_per_user = ratings.groupBy(\"userId\").agg(f.mean('rating').alias('avg_rating'))\n",
    "overall_avg_rating = avg_ratings_per_user.select(f.mean('avg_rating').alias('avg_of_avg_ratings')).show()"
   ]
  },
  {
   "cell_type": "markdown",
   "id": "97bec192-6974-4168-accb-a8f93816689c",
   "metadata": {},
   "source": [
    "Task 3"
   ]
  },
  {
   "cell_type": "code",
   "execution_count": 28,
   "id": "a53d26d9-a1a7-4a50-a6c5-d381632e7fe5",
   "metadata": {},
   "outputs": [],
   "source": [
    "from pyspark.sql.functions import udf\n",
    "from pyspark.sql.types import DoubleType\n",
    "from sklearn.feature_extraction.text import TfidfVectorizer\n",
    "from sklearn.linear_model import SGDRegressor\n",
    "from pyspark.ml.linalg import Vectors, VectorUDT"
   ]
  },
  {
   "cell_type": "markdown",
   "id": "ac06c3a7-edd3-4a1a-b161-66f7e8c1ccd7",
   "metadata": {},
   "source": [
    "Train TfidfVectorizer and  SGDRegressor"
   ]
  },
  {
   "cell_type": "code",
   "execution_count": 68,
   "id": "562bd2b9-89f7-427b-b5e4-860a7abec386",
   "metadata": {},
   "outputs": [
    {
     "data": {
      "text/html": [
       "<style>#sk-container-id-5 {color: black;}#sk-container-id-5 pre{padding: 0;}#sk-container-id-5 div.sk-toggleable {background-color: white;}#sk-container-id-5 label.sk-toggleable__label {cursor: pointer;display: block;width: 100%;margin-bottom: 0;padding: 0.3em;box-sizing: border-box;text-align: center;}#sk-container-id-5 label.sk-toggleable__label-arrow:before {content: \"▸\";float: left;margin-right: 0.25em;color: #696969;}#sk-container-id-5 label.sk-toggleable__label-arrow:hover:before {color: black;}#sk-container-id-5 div.sk-estimator:hover label.sk-toggleable__label-arrow:before {color: black;}#sk-container-id-5 div.sk-toggleable__content {max-height: 0;max-width: 0;overflow: hidden;text-align: left;background-color: #f0f8ff;}#sk-container-id-5 div.sk-toggleable__content pre {margin: 0.2em;color: black;border-radius: 0.25em;background-color: #f0f8ff;}#sk-container-id-5 input.sk-toggleable__control:checked~div.sk-toggleable__content {max-height: 200px;max-width: 100%;overflow: auto;}#sk-container-id-5 input.sk-toggleable__control:checked~label.sk-toggleable__label-arrow:before {content: \"▾\";}#sk-container-id-5 div.sk-estimator input.sk-toggleable__control:checked~label.sk-toggleable__label {background-color: #d4ebff;}#sk-container-id-5 div.sk-label input.sk-toggleable__control:checked~label.sk-toggleable__label {background-color: #d4ebff;}#sk-container-id-5 input.sk-hidden--visually {border: 0;clip: rect(1px 1px 1px 1px);clip: rect(1px, 1px, 1px, 1px);height: 1px;margin: -1px;overflow: hidden;padding: 0;position: absolute;width: 1px;}#sk-container-id-5 div.sk-estimator {font-family: monospace;background-color: #f0f8ff;border: 1px dotted black;border-radius: 0.25em;box-sizing: border-box;margin-bottom: 0.5em;}#sk-container-id-5 div.sk-estimator:hover {background-color: #d4ebff;}#sk-container-id-5 div.sk-parallel-item::after {content: \"\";width: 100%;border-bottom: 1px solid gray;flex-grow: 1;}#sk-container-id-5 div.sk-label:hover label.sk-toggleable__label {background-color: #d4ebff;}#sk-container-id-5 div.sk-serial::before {content: \"\";position: absolute;border-left: 1px solid gray;box-sizing: border-box;top: 0;bottom: 0;left: 50%;z-index: 0;}#sk-container-id-5 div.sk-serial {display: flex;flex-direction: column;align-items: center;background-color: white;padding-right: 0.2em;padding-left: 0.2em;position: relative;}#sk-container-id-5 div.sk-item {position: relative;z-index: 1;}#sk-container-id-5 div.sk-parallel {display: flex;align-items: stretch;justify-content: center;background-color: white;position: relative;}#sk-container-id-5 div.sk-item::before, #sk-container-id-5 div.sk-parallel-item::before {content: \"\";position: absolute;border-left: 1px solid gray;box-sizing: border-box;top: 0;bottom: 0;left: 50%;z-index: -1;}#sk-container-id-5 div.sk-parallel-item {display: flex;flex-direction: column;z-index: 1;position: relative;background-color: white;}#sk-container-id-5 div.sk-parallel-item:first-child::after {align-self: flex-end;width: 50%;}#sk-container-id-5 div.sk-parallel-item:last-child::after {align-self: flex-start;width: 50%;}#sk-container-id-5 div.sk-parallel-item:only-child::after {width: 0;}#sk-container-id-5 div.sk-dashed-wrapped {border: 1px dashed gray;margin: 0 0.4em 0.5em 0.4em;box-sizing: border-box;padding-bottom: 0.4em;background-color: white;}#sk-container-id-5 div.sk-label label {font-family: monospace;font-weight: bold;display: inline-block;line-height: 1.2em;}#sk-container-id-5 div.sk-label-container {text-align: center;}#sk-container-id-5 div.sk-container {/* jupyter's `normalize.less` sets `[hidden] { display: none; }` but bootstrap.min.css set `[hidden] { display: none !important; }` so we also need the `!important` here to be able to override the default hidden behavior on the sphinx rendered scikit-learn.org. See: https://github.com/scikit-learn/scikit-learn/issues/21755 */display: inline-block !important;position: relative;}#sk-container-id-5 div.sk-text-repr-fallback {display: none;}</style><div id=\"sk-container-id-5\" class=\"sk-top-container\"><div class=\"sk-text-repr-fallback\"><pre>SGDRegressor()</pre><b>In a Jupyter environment, please rerun this cell to show the HTML representation or trust the notebook. <br />On GitHub, the HTML representation is unable to render, please try loading this page with nbviewer.org.</b></div><div class=\"sk-container\" hidden><div class=\"sk-item\"><div class=\"sk-estimator sk-toggleable\"><input class=\"sk-toggleable__control sk-hidden--visually\" id=\"sk-estimator-id-5\" type=\"checkbox\" checked><label for=\"sk-estimator-id-5\" class=\"sk-toggleable__label sk-toggleable__label-arrow\">SGDRegressor</label><div class=\"sk-toggleable__content\"><pre>SGDRegressor()</pre></div></div></div></div></div>"
      ],
      "text/plain": [
       "SGDRegressor()"
      ]
     },
     "execution_count": 68,
     "metadata": {},
     "output_type": "execute_result"
    }
   ],
   "source": [
    "tags_with_ratings = tags.alias(\"tags\").join(ratings.alias(\"ratings\"), on=['userId', 'movieId'])\n",
    "tags_with_ratings = tags_with_ratings.groupBy(\"tag\").agg(f.mean('rating').alias('avg_rating'))\n",
    "tags_with_ratings_pd = tags_with_ratings.toPandas()\n",
    "\n",
    "tfidf_vect = TfidfVectorizer()\n",
    "tags_features = tfidf_vect.fit_transform(tags_with_ratings_pd['tag'])\n",
    "\n",
    "sgd_regressor = SGDRegressor()\n",
    "sgd_regressor.fit(tags_features, tags_with_ratings_pd['avg_rating'])"
   ]
  },
  {
   "cell_type": "markdown",
   "id": "4c068363-72b1-44bd-b835-dcd4569ff834",
   "metadata": {},
   "source": [
    "Create UDF, predicting rating by tag"
   ]
  },
  {
   "cell_type": "code",
   "execution_count": 73,
   "id": "0cb7d9a8-7704-4f1b-a7bf-026f5ab0b267",
   "metadata": {},
   "outputs": [],
   "source": [
    "def predict_rating(tag):\n",
    "    transformed_tag = tfidf_vect.transform([tag])\n",
    "    predicted_rating = sgd_regressor.predict(transformed_tag)\n",
    "    return float(predicted_rating[0])\n",
    "\n",
    "predict_rating_udf = udf(predict_rating, FloatType())"
   ]
  },
  {
   "cell_type": "markdown",
   "id": "1ea02558-9da6-49ea-a2e4-709324ccd55c",
   "metadata": {},
   "source": [
    "Apply UDF to tags, then compare predicted rating with real"
   ]
  },
  {
   "cell_type": "code",
   "execution_count": 74,
   "id": "966441ba-e11e-49b1-a297-3b7ccd0ab04d",
   "metadata": {},
   "outputs": [
    {
     "name": "stdout",
     "output_type": "stream",
     "text": [
      "+--------------------+------------------+----------------+\n",
      "|                 tag|        avg_rating|predicted_rating|\n",
      "+--------------------+------------------+----------------+\n",
      "|               anime| 4.166666666666667|       3.5808225|\n",
      "|                hope|               4.0|       3.5582614|\n",
      "|wrongful imprison...|               5.0|       3.6914632|\n",
      "|               1970s|3.8333333333333335|       3.5362763|\n",
      "|              freaks|               4.5|       3.6246061|\n",
      "|                 art|              3.75|       3.7475877|\n",
      "|          creativity|               5.0|       3.6919618|\n",
      "|  intelligent sci-fi|               4.5|       4.1977453|\n",
      "|        Heartwarming|               3.5|       3.6027691|\n",
      "|             lyrical|              3.25|       3.4592369|\n",
      "|              ransom|               5.0|       3.6904726|\n",
      "|               mafia| 4.666666666666667|       3.8126597|\n",
      "|              sequel|3.7142857142857144|       3.6473424|\n",
      "|          Emma Stone|               3.5|       3.8693511|\n",
      "|               scifi|               3.0|       3.7289028|\n",
      "|          television|3.4166666666666665|       3.4812107|\n",
      "|           Wolverine|               5.0|       3.6923149|\n",
      "|               macho|               4.0|        3.561423|\n",
      "|       John Travolta|               5.0|       4.2071342|\n",
      "|intertwining stor...|               5.0|        3.899602|\n",
      "|        conversation|               5.0|       3.6949477|\n",
      "|        space action|               5.0|       4.6346703|\n",
      "|              Russia|               4.0|       3.5582576|\n",
      "|                lies|               5.0|       3.6923156|\n",
      "|                 cia|               4.5|       3.6248093|\n",
      "|                70mm|               3.0|       3.4246864|\n",
      "|        human rights|               5.0|       3.6922557|\n",
      "|             suicide|               4.0|       3.5576723|\n",
      "|           biography|               1.0|       3.1588447|\n",
      "|              Quirky|               3.0|       3.8340652|\n",
      "|            romantic|              4.75|        3.990758|\n",
      "|                slow|               5.0|       3.8814213|\n",
      "|   Maggie Gyllenhaal|               4.0|       3.6835177|\n",
      "|     good soundtrack|               4.5|        4.747622|\n",
      "|              killer|               4.5|       3.9012346|\n",
      "|               scary|               4.0|       3.5580347|\n",
      "|           Hollywood|3.6666666666666665|       3.5145683|\n",
      "|           President|               4.5|        3.696477|\n",
      "|               Grace|               4.5|       3.6265988|\n",
      "|first was much be...|               3.0|       3.4271746|\n",
      "|             surreal| 4.260869565217392|       3.8388052|\n",
      "|             lesbian|               3.5|       3.6655262|\n",
      "|start of a beauti...|               5.0|       4.4904723|\n",
      "|               Clock|               5.0|         3.69368|\n",
      "|         intelligent| 4.357142857142857|        3.730318|\n",
      "|        cult classic|               5.0|       4.7566795|\n",
      "|            Mindfuck|               5.0|       3.9489257|\n",
      "|freedom of expres...|               3.5|       4.1037536|\n",
      "|              priest|3.6666666666666665|       3.8228145|\n",
      "| George Bernard Shaw|               4.0|        3.762294|\n",
      "+--------------------+------------------+----------------+\n",
      "only showing top 50 rows\n",
      "\n"
     ]
    }
   ],
   "source": [
    "tags_with_predicted_ratings = tags_with_ratings.withColumn(\"predicted_rating\", predict_rating_udf(tags_with_ratings['tag']))\n",
    "tags_with_predicted_ratings.show(50)"
   ]
  },
  {
   "cell_type": "markdown",
   "id": "18e94e18-d7be-48ab-bf55-9e561fbaa9ca",
   "metadata": {},
   "source": [
    "Calculate RMSE"
   ]
  },
  {
   "cell_type": "code",
   "execution_count": 85,
   "id": "b336d1fd-2d7b-42c0-9ab0-7ce1c5c12995",
   "metadata": {},
   "outputs": [
    {
     "name": "stdout",
     "output_type": "stream",
     "text": [
      "+------------------+\n",
      "|              RMSE|\n",
      "+------------------+\n",
      "|0.7818799487962442|\n",
      "+------------------+\n",
      "\n"
     ]
    },
    {
     "name": "stderr",
     "output_type": "stream",
     "text": [
      "                                                                                \r"
     ]
    }
   ],
   "source": [
    "ratings_with_predictions = tags_with_predicted_ratings.withColumn(\"squared_error\", (f.col(\"avg_rating\") - f.col(\"predicted_rating\"))**2)\n",
    "mse = ratings_with_predictions.groupBy().avg(\"squared_error\")\n",
    "errors = mse.withColumn(\"RMSE\", f.sqrt(\"avg(squared_error)\"))\n",
    "errors.select(\"RMSE\").show()"
   ]
  },
  {
   "cell_type": "markdown",
   "id": "35843b6b-67a3-4b36-a38f-988ad4b76825",
   "metadata": {},
   "source": [
    "Всего было 4 джобы и 4 стейджа (7 всего, 3 пропущено)"
   ]
  }
 ],
 "metadata": {
  "kernelspec": {
   "display_name": "Python 3 (ipykernel)",
   "language": "python",
   "name": "python3"
  },
  "language_info": {
   "codemirror_mode": {
    "name": "ipython",
    "version": 3
   },
   "file_extension": ".py",
   "mimetype": "text/x-python",
   "name": "python",
   "nbconvert_exporter": "python",
   "pygments_lexer": "ipython3",
   "version": "3.10.12"
  }
 },
 "nbformat": 4,
 "nbformat_minor": 5
}